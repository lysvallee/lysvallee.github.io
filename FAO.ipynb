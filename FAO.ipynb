{
  "cells": [
    {
      "cell_type": "markdown",
      "metadata": {
        "id": "view-in-github",
        "colab_type": "text"
      },
      "source": [
        "<a href=\"https://colab.research.google.com/github/lysvallee/lysvallee.github.io/blob/gh-pages/FAO.ipynb\" target=\"_parent\"><img src=\"https://colab.research.google.com/assets/colab-badge.svg\" alt=\"Open In Colab\"/></a>"
      ]
    },
    {
      "cell_type": "code",
      "execution_count": null,
      "metadata": {
        "id": "PvMwgrHJmVWg"
      },
      "outputs": [],
      "source": [
        "# Importer librairies\n",
        "import numpy as np\n",
        "import pandas as pd\n",
        "import sqlite3\n",
        "from glob import glob\n",
        "from os import chdir, path\n",
        "import matplotlib.pyplot as plt\n",
        "import plotly.express as px"
      ]
    },
    {
      "cell_type": "code",
      "execution_count": null,
      "metadata": {
        "colab": {
          "base_uri": "https://localhost:8080/"
        },
        "id": "qEBWV_7WT9al",
        "outputId": "3db6324e-5832-4826-94b1-14413eb0947d"
      },
      "outputs": [
        {
          "output_type": "stream",
          "name": "stdout",
          "text": [
            "Drive already mounted at /content/drive; to attempt to forcibly remount, call drive.mount(\"/content/drive\", force_remount=True).\n",
            "/content/drive/MyDrive/Colab Notebooks\n"
          ]
        }
      ],
      "source": [
        "# mount GoogleDrive and set the files path\n",
        "from google.colab import drive\n",
        "drive.mount('/content/drive')\n",
        "%cd '/content/drive/MyDrive/Colab Notebooks'\n"
      ]
    },
    {
      "cell_type": "code",
      "execution_count": null,
      "metadata": {
        "colab": {
          "base_uri": "https://localhost:8080/"
        },
        "id": "oy_gPGxIFdiY",
        "outputId": "4fcd6399-5c9f-411c-8f2b-e17b0bd32eee"
      },
      "outputs": [
        {
          "output_type": "execute_result",
          "data": {
            "text/plain": [
              "['FAOSTAT_2013_population.csv',\n",
              " 'FAOSTAT_2013_animal.csv',\n",
              " 'FAOSTAT_2013_cereal.csv',\n",
              " 'FAOSTAT_2013_vegetal.csv',\n",
              " 'FAOSTAT_2013_sous_alimentation.csv']"
            ]
          },
          "metadata": {},
          "execution_count": 31
        }
      ],
      "source": [
        "chdir('/content/drive/MyDrive/DATA IA Projet 1/')\n",
        "fns = glob('FAOSTAT_2013_*.csv')\n",
        "fns"
      ]
    },
    {
      "cell_type": "code",
      "execution_count": null,
      "metadata": {
        "id": "_ad0v_RHz-x8"
      },
      "outputs": [],
      "source": [
        "# Ouverture sqllite\n",
        "conn = sqlite3.connect('bdd.sqlite')"
      ]
    },
    {
      "cell_type": "code",
      "execution_count": null,
      "metadata": {
        "id": "K6A7Q2h10b9x"
      },
      "outputs": [],
      "source": [
        "# Noms de colonnes à utiliser\n",
        "names = ['Code Domaine', 'Domaine', 'Code Pays', 'Pays', 'Code Élément',\n",
        "         'Élément', 'Code Produit', 'Produit', 'Code Année', 'Année', 'Unité',\n",
        "         'Valeur', 'Symbole', 'Description du Symbole']"
      ]
    },
    {
      "cell_type": "code",
      "execution_count": null,
      "metadata": {
        "colab": {
          "base_uri": "https://localhost:8080/"
        },
        "id": "KCkbooZY00cj",
        "outputId": "64c30383-a170-438c-e110-1c8209405c4d"
      },
      "outputs": [
        {
          "output_type": "stream",
          "name": "stdout",
          "text": [
            "- FAOSTAT_2013_population.csv                        (   175, 14)\n",
            "- FAOSTAT_2013_animal.csv                            ( 37166, 14)\n"
          ]
        },
        {
          "output_type": "stream",
          "name": "stderr",
          "text": [
            "/usr/local/lib/python3.8/dist-packages/pandas/core/generic.py:2872: UserWarning: The spaces in these column names will not be changed. In pandas versions < 0.14, spaces were converted to underscores.\n",
            "  sql.to_sql(\n"
          ]
        },
        {
          "output_type": "stream",
          "name": "stdout",
          "text": [
            "- FAOSTAT_2013_cereal.csv                            ( 16057, 14)\n",
            "- FAOSTAT_2013_vegetal.csv                           (104871, 14)\n",
            "- FAOSTAT_2013_sous_alimentation.csv                 (   204, 14)\n"
          ]
        }
      ],
      "source": [
        "# Lecture puis affichage des info taille des CSV, puis création des bdd\n",
        "for fn in fns:\n",
        "    fnshort = path.splitext(fn)[0]\n",
        "    fnshort = fnshort.split('2013_')[1]\n",
        "    df = pd.read_csv(fn, names=names, header=0)\n",
        "    print(f\"- {fn:50s} ({df.shape[0]:6d}, {df.shape[1]:2d})\")\n",
        "    df.to_sql(fnshort, con=conn, if_exists='replace')\n"
      ]
    },
    {
      "cell_type": "code",
      "execution_count": null,
      "metadata": {
        "colab": {
          "base_uri": "https://localhost:8080/"
        },
        "id": "Jur7UKxPEY6V",
        "outputId": "2b77c9a1-7748-42db-a4e3-6905586240db"
      },
      "outputs": [
        {
          "output_type": "execute_result",
          "data": {
            "text/plain": [
              "     Code Pays         Pays  population    cereal\n",
              "0            1      Armenia        2977     312.0\n",
              "1            2  Afghanistan       30552    5169.0\n",
              "2            3      Albania        3173     294.0\n",
              "3            4      Algeria       39208    3299.0\n",
              "4            7       Angola       21472       4.0\n",
              "..         ...          ...         ...       ...\n",
              "107        256   Luxembourg         530      91.0\n",
              "108        272       Serbia        9511    2690.0\n",
              "109        273   Montenegro         621       2.0\n",
              "110        276        Sudan       37964     265.0\n",
              "111        351        China     1416667  121931.0\n",
              "\n",
              "[112 rows x 4 columns]"
            ],
            "text/html": [
              "\n",
              "  <div id=\"df-4c8395e6-f5dc-47e4-adea-c2cdb40b8bec\">\n",
              "    <div class=\"colab-df-container\">\n",
              "      <div>\n",
              "<style scoped>\n",
              "    .dataframe tbody tr th:only-of-type {\n",
              "        vertical-align: middle;\n",
              "    }\n",
              "\n",
              "    .dataframe tbody tr th {\n",
              "        vertical-align: top;\n",
              "    }\n",
              "\n",
              "    .dataframe thead th {\n",
              "        text-align: right;\n",
              "    }\n",
              "</style>\n",
              "<table border=\"1\" class=\"dataframe\">\n",
              "  <thead>\n",
              "    <tr style=\"text-align: right;\">\n",
              "      <th></th>\n",
              "      <th>Code Pays</th>\n",
              "      <th>Pays</th>\n",
              "      <th>population</th>\n",
              "      <th>cereal</th>\n",
              "    </tr>\n",
              "  </thead>\n",
              "  <tbody>\n",
              "    <tr>\n",
              "      <th>0</th>\n",
              "      <td>1</td>\n",
              "      <td>Armenia</td>\n",
              "      <td>2977</td>\n",
              "      <td>312.0</td>\n",
              "    </tr>\n",
              "    <tr>\n",
              "      <th>1</th>\n",
              "      <td>2</td>\n",
              "      <td>Afghanistan</td>\n",
              "      <td>30552</td>\n",
              "      <td>5169.0</td>\n",
              "    </tr>\n",
              "    <tr>\n",
              "      <th>2</th>\n",
              "      <td>3</td>\n",
              "      <td>Albania</td>\n",
              "      <td>3173</td>\n",
              "      <td>294.0</td>\n",
              "    </tr>\n",
              "    <tr>\n",
              "      <th>3</th>\n",
              "      <td>4</td>\n",
              "      <td>Algeria</td>\n",
              "      <td>39208</td>\n",
              "      <td>3299.0</td>\n",
              "    </tr>\n",
              "    <tr>\n",
              "      <th>4</th>\n",
              "      <td>7</td>\n",
              "      <td>Angola</td>\n",
              "      <td>21472</td>\n",
              "      <td>4.0</td>\n",
              "    </tr>\n",
              "    <tr>\n",
              "      <th>...</th>\n",
              "      <td>...</td>\n",
              "      <td>...</td>\n",
              "      <td>...</td>\n",
              "      <td>...</td>\n",
              "    </tr>\n",
              "    <tr>\n",
              "      <th>107</th>\n",
              "      <td>256</td>\n",
              "      <td>Luxembourg</td>\n",
              "      <td>530</td>\n",
              "      <td>91.0</td>\n",
              "    </tr>\n",
              "    <tr>\n",
              "      <th>108</th>\n",
              "      <td>272</td>\n",
              "      <td>Serbia</td>\n",
              "      <td>9511</td>\n",
              "      <td>2690.0</td>\n",
              "    </tr>\n",
              "    <tr>\n",
              "      <th>109</th>\n",
              "      <td>273</td>\n",
              "      <td>Montenegro</td>\n",
              "      <td>621</td>\n",
              "      <td>2.0</td>\n",
              "    </tr>\n",
              "    <tr>\n",
              "      <th>110</th>\n",
              "      <td>276</td>\n",
              "      <td>Sudan</td>\n",
              "      <td>37964</td>\n",
              "      <td>265.0</td>\n",
              "    </tr>\n",
              "    <tr>\n",
              "      <th>111</th>\n",
              "      <td>351</td>\n",
              "      <td>China</td>\n",
              "      <td>1416667</td>\n",
              "      <td>121931.0</td>\n",
              "    </tr>\n",
              "  </tbody>\n",
              "</table>\n",
              "<p>112 rows × 4 columns</p>\n",
              "</div>\n",
              "      <button class=\"colab-df-convert\" onclick=\"convertToInteractive('df-4c8395e6-f5dc-47e4-adea-c2cdb40b8bec')\"\n",
              "              title=\"Convert this dataframe to an interactive table.\"\n",
              "              style=\"display:none;\">\n",
              "        \n",
              "  <svg xmlns=\"http://www.w3.org/2000/svg\" height=\"24px\"viewBox=\"0 0 24 24\"\n",
              "       width=\"24px\">\n",
              "    <path d=\"M0 0h24v24H0V0z\" fill=\"none\"/>\n",
              "    <path d=\"M18.56 5.44l.94 2.06.94-2.06 2.06-.94-2.06-.94-.94-2.06-.94 2.06-2.06.94zm-11 1L8.5 8.5l.94-2.06 2.06-.94-2.06-.94L8.5 2.5l-.94 2.06-2.06.94zm10 10l.94 2.06.94-2.06 2.06-.94-2.06-.94-.94-2.06-.94 2.06-2.06.94z\"/><path d=\"M17.41 7.96l-1.37-1.37c-.4-.4-.92-.59-1.43-.59-.52 0-1.04.2-1.43.59L10.3 9.45l-7.72 7.72c-.78.78-.78 2.05 0 2.83L4 21.41c.39.39.9.59 1.41.59.51 0 1.02-.2 1.41-.59l7.78-7.78 2.81-2.81c.8-.78.8-2.07 0-2.86zM5.41 20L4 18.59l7.72-7.72 1.47 1.35L5.41 20z\"/>\n",
              "  </svg>\n",
              "      </button>\n",
              "      \n",
              "  <style>\n",
              "    .colab-df-container {\n",
              "      display:flex;\n",
              "      flex-wrap:wrap;\n",
              "      gap: 12px;\n",
              "    }\n",
              "\n",
              "    .colab-df-convert {\n",
              "      background-color: #E8F0FE;\n",
              "      border: none;\n",
              "      border-radius: 50%;\n",
              "      cursor: pointer;\n",
              "      display: none;\n",
              "      fill: #1967D2;\n",
              "      height: 32px;\n",
              "      padding: 0 0 0 0;\n",
              "      width: 32px;\n",
              "    }\n",
              "\n",
              "    .colab-df-convert:hover {\n",
              "      background-color: #E2EBFA;\n",
              "      box-shadow: 0px 1px 2px rgba(60, 64, 67, 0.3), 0px 1px 3px 1px rgba(60, 64, 67, 0.15);\n",
              "      fill: #174EA6;\n",
              "    }\n",
              "\n",
              "    [theme=dark] .colab-df-convert {\n",
              "      background-color: #3B4455;\n",
              "      fill: #D2E3FC;\n",
              "    }\n",
              "\n",
              "    [theme=dark] .colab-df-convert:hover {\n",
              "      background-color: #434B5C;\n",
              "      box-shadow: 0px 1px 3px 1px rgba(0, 0, 0, 0.15);\n",
              "      filter: drop-shadow(0px 1px 2px rgba(0, 0, 0, 0.3));\n",
              "      fill: #FFFFFF;\n",
              "    }\n",
              "  </style>\n",
              "\n",
              "      <script>\n",
              "        const buttonEl =\n",
              "          document.querySelector('#df-4c8395e6-f5dc-47e4-adea-c2cdb40b8bec button.colab-df-convert');\n",
              "        buttonEl.style.display =\n",
              "          google.colab.kernel.accessAllowed ? 'block' : 'none';\n",
              "\n",
              "        async function convertToInteractive(key) {\n",
              "          const element = document.querySelector('#df-4c8395e6-f5dc-47e4-adea-c2cdb40b8bec');\n",
              "          const dataTable =\n",
              "            await google.colab.kernel.invokeFunction('convertToInteractive',\n",
              "                                                     [key], {});\n",
              "          if (!dataTable) return;\n",
              "\n",
              "          const docLinkHtml = 'Like what you see? Visit the ' +\n",
              "            '<a target=\"_blank\" href=https://colab.research.google.com/notebooks/data_table.ipynb>data table notebook</a>'\n",
              "            + ' to learn more about interactive tables.';\n",
              "          element.innerHTML = '';\n",
              "          dataTable['output_type'] = 'display_data';\n",
              "          await google.colab.output.renderOutput(dataTable, element);\n",
              "          const docLink = document.createElement('div');\n",
              "          docLink.innerHTML = docLinkHtml;\n",
              "          element.appendChild(docLink);\n",
              "        }\n",
              "      </script>\n",
              "    </div>\n",
              "  </div>\n",
              "  "
            ]
          },
          "metadata": {},
          "execution_count": 35
        }
      ],
      "source": [
        "# création d'un dataframe à partir de la bdd\n",
        "SQL = '''\n",
        "SELECT population.\"Code Pays\", population.Pays, population.Valeur AS population, cereal.Valeur AS cereal\n",
        "FROM population \n",
        "INNER JOIN cereal\n",
        "ON (population.\"Code Pays\" = cereal.\"Code Pays\")\n",
        "WHERE cereal.Élément=\"Production\" AND cereal.Produit=\"Blé\"\n",
        "    AND cereal.Valeur>0\n",
        "ORDER BY population.\"Code Pays\"\n",
        "; \n",
        "'''\n",
        "\n",
        "df = pd.read_sql(SQL, conn)\n",
        "df"
      ]
    },
    {
      "cell_type": "code",
      "execution_count": null,
      "metadata": {
        "colab": {
          "base_uri": "https://localhost:8080/"
        },
        "id": "eDI61JKauL3I",
        "outputId": "02a29b3e-c1dd-4a72-a961-cfd8cd045587"
      },
      "outputs": [
        {
          "output_type": "execute_result",
          "data": {
            "text/plain": [
              "['FAOSTAT_continents_add.csv', 'FAOSTAT_area_add.csv']"
            ]
          },
          "metadata": {},
          "execution_count": 36
        }
      ],
      "source": [
        "#ajout des infos surface et continent dans le df\n",
        "glob('*add.csv')"
      ]
    },
    {
      "cell_type": "code",
      "source": [
        "# rajouter les continents \n",
        "continents = pd.read_csv('FAOSTAT_continents_add.csv')\n",
        "continents = continents[['name', 'region','sub-region']]\n",
        "continents.head()"
      ],
      "metadata": {
        "colab": {
          "base_uri": "https://localhost:8080/"
        },
        "id": "6rfJYpEpO2va",
        "outputId": "6c65020f-1d58-4075-973f-56a972b767db"
      },
      "execution_count": null,
      "outputs": [
        {
          "output_type": "execute_result",
          "data": {
            "text/plain": [
              "             name   region       sub-region\n",
              "0     Afghanistan     Asia    Southern Asia\n",
              "1   Åland Islands   Europe  Northern Europe\n",
              "2         Albania   Europe  Southern Europe\n",
              "3         Algeria   Africa  Northern Africa\n",
              "4  American Samoa  Oceania        Polynesia"
            ],
            "text/html": [
              "\n",
              "  <div id=\"df-4df46920-5794-43c1-bf50-efbe623271c1\">\n",
              "    <div class=\"colab-df-container\">\n",
              "      <div>\n",
              "<style scoped>\n",
              "    .dataframe tbody tr th:only-of-type {\n",
              "        vertical-align: middle;\n",
              "    }\n",
              "\n",
              "    .dataframe tbody tr th {\n",
              "        vertical-align: top;\n",
              "    }\n",
              "\n",
              "    .dataframe thead th {\n",
              "        text-align: right;\n",
              "    }\n",
              "</style>\n",
              "<table border=\"1\" class=\"dataframe\">\n",
              "  <thead>\n",
              "    <tr style=\"text-align: right;\">\n",
              "      <th></th>\n",
              "      <th>name</th>\n",
              "      <th>region</th>\n",
              "      <th>sub-region</th>\n",
              "    </tr>\n",
              "  </thead>\n",
              "  <tbody>\n",
              "    <tr>\n",
              "      <th>0</th>\n",
              "      <td>Afghanistan</td>\n",
              "      <td>Asia</td>\n",
              "      <td>Southern Asia</td>\n",
              "    </tr>\n",
              "    <tr>\n",
              "      <th>1</th>\n",
              "      <td>Åland Islands</td>\n",
              "      <td>Europe</td>\n",
              "      <td>Northern Europe</td>\n",
              "    </tr>\n",
              "    <tr>\n",
              "      <th>2</th>\n",
              "      <td>Albania</td>\n",
              "      <td>Europe</td>\n",
              "      <td>Southern Europe</td>\n",
              "    </tr>\n",
              "    <tr>\n",
              "      <th>3</th>\n",
              "      <td>Algeria</td>\n",
              "      <td>Africa</td>\n",
              "      <td>Northern Africa</td>\n",
              "    </tr>\n",
              "    <tr>\n",
              "      <th>4</th>\n",
              "      <td>American Samoa</td>\n",
              "      <td>Oceania</td>\n",
              "      <td>Polynesia</td>\n",
              "    </tr>\n",
              "  </tbody>\n",
              "</table>\n",
              "</div>\n",
              "      <button class=\"colab-df-convert\" onclick=\"convertToInteractive('df-4df46920-5794-43c1-bf50-efbe623271c1')\"\n",
              "              title=\"Convert this dataframe to an interactive table.\"\n",
              "              style=\"display:none;\">\n",
              "        \n",
              "  <svg xmlns=\"http://www.w3.org/2000/svg\" height=\"24px\"viewBox=\"0 0 24 24\"\n",
              "       width=\"24px\">\n",
              "    <path d=\"M0 0h24v24H0V0z\" fill=\"none\"/>\n",
              "    <path d=\"M18.56 5.44l.94 2.06.94-2.06 2.06-.94-2.06-.94-.94-2.06-.94 2.06-2.06.94zm-11 1L8.5 8.5l.94-2.06 2.06-.94-2.06-.94L8.5 2.5l-.94 2.06-2.06.94zm10 10l.94 2.06.94-2.06 2.06-.94-2.06-.94-.94-2.06-.94 2.06-2.06.94z\"/><path d=\"M17.41 7.96l-1.37-1.37c-.4-.4-.92-.59-1.43-.59-.52 0-1.04.2-1.43.59L10.3 9.45l-7.72 7.72c-.78.78-.78 2.05 0 2.83L4 21.41c.39.39.9.59 1.41.59.51 0 1.02-.2 1.41-.59l7.78-7.78 2.81-2.81c.8-.78.8-2.07 0-2.86zM5.41 20L4 18.59l7.72-7.72 1.47 1.35L5.41 20z\"/>\n",
              "  </svg>\n",
              "      </button>\n",
              "      \n",
              "  <style>\n",
              "    .colab-df-container {\n",
              "      display:flex;\n",
              "      flex-wrap:wrap;\n",
              "      gap: 12px;\n",
              "    }\n",
              "\n",
              "    .colab-df-convert {\n",
              "      background-color: #E8F0FE;\n",
              "      border: none;\n",
              "      border-radius: 50%;\n",
              "      cursor: pointer;\n",
              "      display: none;\n",
              "      fill: #1967D2;\n",
              "      height: 32px;\n",
              "      padding: 0 0 0 0;\n",
              "      width: 32px;\n",
              "    }\n",
              "\n",
              "    .colab-df-convert:hover {\n",
              "      background-color: #E2EBFA;\n",
              "      box-shadow: 0px 1px 2px rgba(60, 64, 67, 0.3), 0px 1px 3px 1px rgba(60, 64, 67, 0.15);\n",
              "      fill: #174EA6;\n",
              "    }\n",
              "\n",
              "    [theme=dark] .colab-df-convert {\n",
              "      background-color: #3B4455;\n",
              "      fill: #D2E3FC;\n",
              "    }\n",
              "\n",
              "    [theme=dark] .colab-df-convert:hover {\n",
              "      background-color: #434B5C;\n",
              "      box-shadow: 0px 1px 3px 1px rgba(0, 0, 0, 0.15);\n",
              "      filter: drop-shadow(0px 1px 2px rgba(0, 0, 0, 0.3));\n",
              "      fill: #FFFFFF;\n",
              "    }\n",
              "  </style>\n",
              "\n",
              "      <script>\n",
              "        const buttonEl =\n",
              "          document.querySelector('#df-4df46920-5794-43c1-bf50-efbe623271c1 button.colab-df-convert');\n",
              "        buttonEl.style.display =\n",
              "          google.colab.kernel.accessAllowed ? 'block' : 'none';\n",
              "\n",
              "        async function convertToInteractive(key) {\n",
              "          const element = document.querySelector('#df-4df46920-5794-43c1-bf50-efbe623271c1');\n",
              "          const dataTable =\n",
              "            await google.colab.kernel.invokeFunction('convertToInteractive',\n",
              "                                                     [key], {});\n",
              "          if (!dataTable) return;\n",
              "\n",
              "          const docLinkHtml = 'Like what you see? Visit the ' +\n",
              "            '<a target=\"_blank\" href=https://colab.research.google.com/notebooks/data_table.ipynb>data table notebook</a>'\n",
              "            + ' to learn more about interactive tables.';\n",
              "          element.innerHTML = '';\n",
              "          dataTable['output_type'] = 'display_data';\n",
              "          await google.colab.output.renderOutput(dataTable, element);\n",
              "          const docLink = document.createElement('div');\n",
              "          docLink.innerHTML = docLinkHtml;\n",
              "          element.appendChild(docLink);\n",
              "        }\n",
              "      </script>\n",
              "    </div>\n",
              "  </div>\n",
              "  "
            ]
          },
          "metadata": {},
          "execution_count": 37
        }
      ]
    },
    {
      "cell_type": "code",
      "source": [
        "df_continents = pd.merge(df, continents, how='inner', left_on='Pays', right_on='name')\n",
        "df_continents.rename(columns = {'region': 'continent', 'sub-region' : 'sous-continent'}, inplace=True)\n",
        "del df_continents[\"name\"]\n",
        "df_continents.head()"
      ],
      "metadata": {
        "colab": {
          "base_uri": "https://localhost:8080/"
        },
        "id": "ZjQ9-RJLRuW2",
        "outputId": "80f69a25-bceb-4f56-a0a4-2bc6bdd96baf"
      },
      "execution_count": null,
      "outputs": [
        {
          "output_type": "execute_result",
          "data": {
            "text/plain": [
              "   Code Pays         Pays  population  cereal continent      sous-continent\n",
              "0          1      Armenia        2977   312.0      Asia        Western Asia\n",
              "1          2  Afghanistan       30552  5169.0      Asia       Southern Asia\n",
              "2          3      Albania        3173   294.0    Europe     Southern Europe\n",
              "3          4      Algeria       39208  3299.0    Africa     Northern Africa\n",
              "4          7       Angola       21472     4.0    Africa  Sub-Saharan Africa"
            ],
            "text/html": [
              "\n",
              "  <div id=\"df-55b25d8d-b2e0-4166-9449-5049105dd7be\">\n",
              "    <div class=\"colab-df-container\">\n",
              "      <div>\n",
              "<style scoped>\n",
              "    .dataframe tbody tr th:only-of-type {\n",
              "        vertical-align: middle;\n",
              "    }\n",
              "\n",
              "    .dataframe tbody tr th {\n",
              "        vertical-align: top;\n",
              "    }\n",
              "\n",
              "    .dataframe thead th {\n",
              "        text-align: right;\n",
              "    }\n",
              "</style>\n",
              "<table border=\"1\" class=\"dataframe\">\n",
              "  <thead>\n",
              "    <tr style=\"text-align: right;\">\n",
              "      <th></th>\n",
              "      <th>Code Pays</th>\n",
              "      <th>Pays</th>\n",
              "      <th>population</th>\n",
              "      <th>cereal</th>\n",
              "      <th>continent</th>\n",
              "      <th>sous-continent</th>\n",
              "    </tr>\n",
              "  </thead>\n",
              "  <tbody>\n",
              "    <tr>\n",
              "      <th>0</th>\n",
              "      <td>1</td>\n",
              "      <td>Armenia</td>\n",
              "      <td>2977</td>\n",
              "      <td>312.0</td>\n",
              "      <td>Asia</td>\n",
              "      <td>Western Asia</td>\n",
              "    </tr>\n",
              "    <tr>\n",
              "      <th>1</th>\n",
              "      <td>2</td>\n",
              "      <td>Afghanistan</td>\n",
              "      <td>30552</td>\n",
              "      <td>5169.0</td>\n",
              "      <td>Asia</td>\n",
              "      <td>Southern Asia</td>\n",
              "    </tr>\n",
              "    <tr>\n",
              "      <th>2</th>\n",
              "      <td>3</td>\n",
              "      <td>Albania</td>\n",
              "      <td>3173</td>\n",
              "      <td>294.0</td>\n",
              "      <td>Europe</td>\n",
              "      <td>Southern Europe</td>\n",
              "    </tr>\n",
              "    <tr>\n",
              "      <th>3</th>\n",
              "      <td>4</td>\n",
              "      <td>Algeria</td>\n",
              "      <td>39208</td>\n",
              "      <td>3299.0</td>\n",
              "      <td>Africa</td>\n",
              "      <td>Northern Africa</td>\n",
              "    </tr>\n",
              "    <tr>\n",
              "      <th>4</th>\n",
              "      <td>7</td>\n",
              "      <td>Angola</td>\n",
              "      <td>21472</td>\n",
              "      <td>4.0</td>\n",
              "      <td>Africa</td>\n",
              "      <td>Sub-Saharan Africa</td>\n",
              "    </tr>\n",
              "  </tbody>\n",
              "</table>\n",
              "</div>\n",
              "      <button class=\"colab-df-convert\" onclick=\"convertToInteractive('df-55b25d8d-b2e0-4166-9449-5049105dd7be')\"\n",
              "              title=\"Convert this dataframe to an interactive table.\"\n",
              "              style=\"display:none;\">\n",
              "        \n",
              "  <svg xmlns=\"http://www.w3.org/2000/svg\" height=\"24px\"viewBox=\"0 0 24 24\"\n",
              "       width=\"24px\">\n",
              "    <path d=\"M0 0h24v24H0V0z\" fill=\"none\"/>\n",
              "    <path d=\"M18.56 5.44l.94 2.06.94-2.06 2.06-.94-2.06-.94-.94-2.06-.94 2.06-2.06.94zm-11 1L8.5 8.5l.94-2.06 2.06-.94-2.06-.94L8.5 2.5l-.94 2.06-2.06.94zm10 10l.94 2.06.94-2.06 2.06-.94-2.06-.94-.94-2.06-.94 2.06-2.06.94z\"/><path d=\"M17.41 7.96l-1.37-1.37c-.4-.4-.92-.59-1.43-.59-.52 0-1.04.2-1.43.59L10.3 9.45l-7.72 7.72c-.78.78-.78 2.05 0 2.83L4 21.41c.39.39.9.59 1.41.59.51 0 1.02-.2 1.41-.59l7.78-7.78 2.81-2.81c.8-.78.8-2.07 0-2.86zM5.41 20L4 18.59l7.72-7.72 1.47 1.35L5.41 20z\"/>\n",
              "  </svg>\n",
              "      </button>\n",
              "      \n",
              "  <style>\n",
              "    .colab-df-container {\n",
              "      display:flex;\n",
              "      flex-wrap:wrap;\n",
              "      gap: 12px;\n",
              "    }\n",
              "\n",
              "    .colab-df-convert {\n",
              "      background-color: #E8F0FE;\n",
              "      border: none;\n",
              "      border-radius: 50%;\n",
              "      cursor: pointer;\n",
              "      display: none;\n",
              "      fill: #1967D2;\n",
              "      height: 32px;\n",
              "      padding: 0 0 0 0;\n",
              "      width: 32px;\n",
              "    }\n",
              "\n",
              "    .colab-df-convert:hover {\n",
              "      background-color: #E2EBFA;\n",
              "      box-shadow: 0px 1px 2px rgba(60, 64, 67, 0.3), 0px 1px 3px 1px rgba(60, 64, 67, 0.15);\n",
              "      fill: #174EA6;\n",
              "    }\n",
              "\n",
              "    [theme=dark] .colab-df-convert {\n",
              "      background-color: #3B4455;\n",
              "      fill: #D2E3FC;\n",
              "    }\n",
              "\n",
              "    [theme=dark] .colab-df-convert:hover {\n",
              "      background-color: #434B5C;\n",
              "      box-shadow: 0px 1px 3px 1px rgba(0, 0, 0, 0.15);\n",
              "      filter: drop-shadow(0px 1px 2px rgba(0, 0, 0, 0.3));\n",
              "      fill: #FFFFFF;\n",
              "    }\n",
              "  </style>\n",
              "\n",
              "      <script>\n",
              "        const buttonEl =\n",
              "          document.querySelector('#df-55b25d8d-b2e0-4166-9449-5049105dd7be button.colab-df-convert');\n",
              "        buttonEl.style.display =\n",
              "          google.colab.kernel.accessAllowed ? 'block' : 'none';\n",
              "\n",
              "        async function convertToInteractive(key) {\n",
              "          const element = document.querySelector('#df-55b25d8d-b2e0-4166-9449-5049105dd7be');\n",
              "          const dataTable =\n",
              "            await google.colab.kernel.invokeFunction('convertToInteractive',\n",
              "                                                     [key], {});\n",
              "          if (!dataTable) return;\n",
              "\n",
              "          const docLinkHtml = 'Like what you see? Visit the ' +\n",
              "            '<a target=\"_blank\" href=https://colab.research.google.com/notebooks/data_table.ipynb>data table notebook</a>'\n",
              "            + ' to learn more about interactive tables.';\n",
              "          element.innerHTML = '';\n",
              "          dataTable['output_type'] = 'display_data';\n",
              "          await google.colab.output.renderOutput(dataTable, element);\n",
              "          const docLink = document.createElement('div');\n",
              "          docLink.innerHTML = docLinkHtml;\n",
              "          element.appendChild(docLink);\n",
              "        }\n",
              "      </script>\n",
              "    </div>\n",
              "  </div>\n",
              "  "
            ]
          },
          "metadata": {},
          "execution_count": 38
        }
      ]
    },
    {
      "cell_type": "code",
      "source": [
        "df_continents.shape"
      ],
      "metadata": {
        "colab": {
          "base_uri": "https://localhost:8080/"
        },
        "id": "YCz99Bpw6M8O",
        "outputId": "c487e71f-b9c0-4e61-9752-b92181408d60"
      },
      "execution_count": null,
      "outputs": [
        {
          "output_type": "execute_result",
          "data": {
            "text/plain": [
              "(104, 6)"
            ]
          },
          "metadata": {},
          "execution_count": 39
        }
      ]
    },
    {
      "cell_type": "markdown",
      "metadata": {
        "id": "jIdOtXnUww0Y"
      },
      "source": [
        "**Graphes**\n",
        "\n",
        "Scatterplot production blé selon population"
      ]
    },
    {
      "cell_type": "code",
      "execution_count": null,
      "metadata": {
        "colab": {
          "base_uri": "https://localhost:8080/",
          "height": 479
        },
        "id": "zgX79ovBFNpf",
        "outputId": "0729ad44-02c7-45b1-8486-334d2af61870"
      },
      "outputs": [
        {
          "output_type": "display_data",
          "data": {
            "text/plain": [
              "<Figure size 1440x576 with 1 Axes>"
            ],
            "image/png": "[encoded data removed]"
          },
          "metadata": {
            "needs_background": "light"
          }
        }
      ],
      "source": [
        "# 1ere version: avec matplotlib\n",
        "x = np.log(df_continents['population'])\n",
        "y = np.log(df_continents['cereal'])\n",
        "\n",
        "plt.figure(figsize=(20, 8))\n",
        "plt.scatter(x, y) # le graph\n",
        "\n",
        "plt.xlabel(\"Population (log(milliers de personnes))\") # label axe x\n",
        "plt.ylabel(\"Production de Blé (log(milliers tonnes))\") #label axe y\n",
        "\n",
        "# Ajout des labels pour chaque ligne (coordonnées en LOG)\n",
        "for i,x in df_continents.iterrows():\n",
        "    plt.annotate(x['Pays'],\n",
        "                 (np.log(x['population']), np.log(x['cereal'])),\n",
        "                 fontsize=7)\n",
        "\n",
        "# Affichage\n",
        "plt.show()\n"
      ]
    },
    {
      "cell_type": "code",
      "execution_count": null,
      "metadata": {
        "id": "231e6MzyKLDw"
      },
      "outputs": [],
      "source": [
        "# 2eme version: interactif avec plotly \n",
        "# a compléter"
      ]
    },
    {
      "cell_type": "markdown",
      "metadata": {
        "id": "hCYTL1Q1mKXp"
      },
      "source": [
        "Pareto population"
      ]
    },
    {
      "cell_type": "code",
      "execution_count": null,
      "metadata": {
        "colab": {
          "base_uri": "https://localhost:8080/",
          "height": 1000
        },
        "id": "Ir1PAVNaKPzZ",
        "outputId": "6eb4abcf-dee2-420a-fe5b-20b00e2c80bd"
      },
      "outputs": [
        {
          "output_type": "execute_result",
          "data": {
            "text/plain": [
              "([0,\n",
              "  1,\n",
              "  2,\n",
              "  3,\n",
              "  4,\n",
              "  5,\n",
              "  6,\n",
              "  7,\n",
              "  8,\n",
              "  9,\n",
              "  10,\n",
              "  11,\n",
              "  12,\n",
              "  13,\n",
              "  14,\n",
              "  15,\n",
              "  16,\n",
              "  17,\n",
              "  18,\n",
              "  19,\n",
              "  20,\n",
              "  21,\n",
              "  22,\n",
              "  23,\n",
              "  24,\n",
              "  25,\n",
              "  26,\n",
              "  27,\n",
              "  28,\n",
              "  29],\n",
              " <a list of 30 Text major ticklabel objects>)"
            ]
          },
          "metadata": {},
          "execution_count": 42
        },
        {
          "output_type": "display_data",
          "data": {
            "text/plain": [
              "<Figure size 1440x576 with 1 Axes>"
            ],
            "image/png": "[encoded data removed]"
          },
          "metadata": {
            "needs_background": "light"
          }
        }
      ],
      "source": [
        "# A supprimer plsu tard, ici intermédiare avant de faire le pareto\n",
        "# barplot pour population, 30 pays les plus peuplés\n",
        "\n",
        "plt.figure(figsize=(20, 8))\n",
        "plt.bar('Pays', 'population',data=df_continents.sort_values('population')[-30:])\n",
        "plt.xlabel(\"Pays\", size=15)\n",
        "plt.ylabel(\"Population (milliers de personnes)\", size=15)\n",
        "plt.xticks(rotation='vertical')\n",
        "# voir si on peut changer l'affichage des axes des ordonnes pour mettre en forme 10⁶\n",
        "\n"
      ]
    },
    {
      "cell_type": "code",
      "source": [
        "# associer une couleur à un continent\n",
        "\n",
        "print(df_continents.continent.unique())\n",
        "\n",
        "# dictionnaire continent-couleur\n",
        "# Tableau palette https://matplotlib.org/stable/gallery/color/named_colors.html\n",
        "color_code = { \n",
        "'Asia' : 'tab:blue',\n",
        "'Americas' : 'tab:orange',\n",
        "'Africa' : 'tab:green',\n",
        "'Europe' : 'tab:red',\n",
        "'Oceania' : 'tab:purple'\n",
        "}\n",
        "\n",
        "# fonction associe continent à couleur \n",
        "def associate_color(x):\n",
        "  col = color_code.get(x)\n",
        "  return(col)\n",
        "\n",
        "# nouvelle colonne contenant couleur\n",
        "df_continents['couleur'] = df_continents['continent'].apply(associate_color)\n",
        "\n",
        "df_continents.shape # 103 lignes\n"
      ],
      "metadata": {
        "colab": {
          "base_uri": "https://localhost:8080/"
        },
        "id": "6d1iJY8VfBJz",
        "outputId": "c09864b1-3a8a-4c6c-8b0e-9286f5b8139d"
      },
      "execution_count": null,
      "outputs": [
        {
          "output_type": "stream",
          "name": "stdout",
          "text": [
            "['Asia' 'Europe' 'Africa' 'Americas' 'Oceania']\n"
          ]
        },
        {
          "output_type": "execute_result",
          "data": {
            "text/plain": [
              "(104, 7)"
            ]
          },
          "metadata": {},
          "execution_count": 43
        }
      ]
    },
    {
      "cell_type": "code",
      "execution_count": null,
      "metadata": {
        "colab": {
          "base_uri": "https://localhost:8080/",
          "height": 581
        },
        "id": "huXnio-ZTWYr",
        "outputId": "b7d263c3-bd44-47d0-fb77-d115c1510e20"
      },
      "outputs": [
        {
          "output_type": "display_data",
          "data": {
            "text/plain": [
              "<Figure size 1440x576 with 2 Axes>"
            ],
            "image/png": "[encoded data removed]"
          },
          "metadata": {
            "needs_background": "light"
          }
        }
      ],
      "source": [
        "df_continents_sort = df_continents.sort_values(by='population', ascending=False)\n",
        "\n",
        "from matplotlib.ticker import PercentFormatter # a envoyer en haut du collab si on garde cette solution\n",
        "\n",
        "# créer colonne avec pourcentage cumulé\n",
        "df_continents_sort['cumperc'] = df_continents_sort['population'].cumsum()/df_continents_sort['population'].sum()*100\n",
        "\n",
        "# créer barplot\n",
        "fig, ax = plt.subplots(figsize=(20,8))\n",
        "ax.bar('Pays', 'population',data=df_continents_sort[:30], color=df_continents_sort['couleur'])\n",
        "\n",
        "# plot pourcentage cumulé\n",
        "ax2 = ax.twinx()\n",
        "ax2.plot('Pays', 'cumperc', color=\"red\", marker=\"D\", ms=4, data= df_continents_sort[:30])\n",
        "ax2.yaxis.set_major_formatter(PercentFormatter())\n",
        "\n",
        "#changer couleurs axes\n",
        "ax2.tick_params(axis='y', colors=\"red\")\n",
        "\n",
        "# faire tourner labels\n",
        "ax.tick_params(labelrotation=90)\n",
        "\n"
      ]
    },
    {
      "cell_type": "code",
      "source": [
        "import matplotlib.colors as pltcol\n",
        "couleursmap = pltcol.Colormap('viridis',5)\n",
        "print(couleursmap)\n",
        "\n",
        "\n",
        "cmap = pltcol.get_cmap('Spectral')\n",
        "\n",
        "rgba = cmap(0.5)\n",
        "print(rgba)"
      ],
      "metadata": {
        "colab": {
          "base_uri": "https://localhost:8080/",
          "height": 263
        },
        "id": "P9oS545AUMKa",
        "outputId": "8e014acd-373d-4566-970e-7d891b6738be"
      },
      "execution_count": null,
      "outputs": [
        {
          "output_type": "stream",
          "name": "stdout",
          "text": [
            "<matplotlib.colors.Colormap object at 0x7f5429fefd30>\n"
          ]
        },
        {
          "output_type": "error",
          "ename": "AttributeError",
          "evalue": "ignored",
          "traceback": [
            "\u001b[0;31m---------------------------------------------------------------------------\u001b[0m",
            "\u001b[0;31mAttributeError\u001b[0m                            Traceback (most recent call last)",
            "\u001b[0;32m<ipython-input-45-270796e53094>\u001b[0m in \u001b[0;36m<module>\u001b[0;34m\u001b[0m\n\u001b[1;32m      4\u001b[0m \u001b[0;34m\u001b[0m\u001b[0m\n\u001b[1;32m      5\u001b[0m \u001b[0;34m\u001b[0m\u001b[0m\n\u001b[0;32m----> 6\u001b[0;31m \u001b[0mcmap\u001b[0m \u001b[0;34m=\u001b[0m \u001b[0mpltcol\u001b[0m\u001b[0;34m.\u001b[0m\u001b[0mget_cmap\u001b[0m\u001b[0;34m(\u001b[0m\u001b[0;34m'Spectral'\u001b[0m\u001b[0;34m)\u001b[0m\u001b[0;34m\u001b[0m\u001b[0;34m\u001b[0m\u001b[0m\n\u001b[0m\u001b[1;32m      7\u001b[0m \u001b[0;34m\u001b[0m\u001b[0m\n\u001b[1;32m      8\u001b[0m \u001b[0mrgba\u001b[0m \u001b[0;34m=\u001b[0m \u001b[0mcmap\u001b[0m\u001b[0;34m(\u001b[0m\u001b[0;36m0.5\u001b[0m\u001b[0;34m)\u001b[0m\u001b[0;34m\u001b[0m\u001b[0;34m\u001b[0m\u001b[0m\n",
            "\u001b[0;31mAttributeError\u001b[0m: module 'matplotlib.colors' has no attribute 'get_cmap'"
          ]
        }
      ]
    },
    {
      "cell_type": "markdown",
      "metadata": {
        "id": "HbUrdVJjdqif"
      },
      "source": [
        "**Pareto malnutrition**"
      ]
    },
    {
      "cell_type": "code",
      "execution_count": null,
      "metadata": {
        "id": "kpg_m8xRXjoz"
      },
      "outputs": [],
      "source": [
        "# on refait le df en ajoutant malnutrition en tant que colonne\n",
        "# on aurait pu le faire au debut au moment ou on crée le df pour la première fois? a voir si possible d'homogénéiser\n",
        "df_mal = pd.read_sql_query(\"\"\"SELECT population.\"Code Pays\", population.\"Pays\", \n",
        "                       population.Valeur AS Population, cereal.Valeur AS Cereale,\n",
        "                       sous_alimentation.Valeur AS malnutrition\n",
        "FROM population\n",
        "INNER JOIN cereal\n",
        "ON (population.\"Code Pays\" = cereal.\"Code Pays\")\n",
        "INNER JOIN sous_alimentation\n",
        "ON (population.\"Code Pays\" = sous_alimentation.\"Code Pays\")\n",
        "WHERE (cereal.\"Élément\" = \"Production\" AND cereal.\"Produit\" = \"Blé\" AND cereal.Valeur > 0)\n",
        "ORDER BY population.\"Code Pays\" ;\"\"\",\n",
        "con =conn)\n",
        "\n",
        "print(df_mal.shape)\n",
        "print(df_mal.head())"
      ]
    },
    {
      "cell_type": "code",
      "execution_count": null,
      "metadata": {
        "id": "7xM8pxMJeAk6"
      },
      "outputs": [],
      "source": [
        "df_mal_sort = df_mal.sort_values(by='malnutrition', ascending=False)\n",
        "\n",
        "# créer colonne avec pourcentage cumulé\n",
        "df_mal_sort['cumperc_mal'] = df_mal_sort['malnutrition'].cumsum()/df_mal_sort['malnutrition'].sum()*100\n",
        "\n",
        "# créer barplot\n",
        "fig, ax = plt.subplots(figsize=(20,8))\n",
        "ax.bar('Pays', 'malnutrition',data=df_mal_sort[:30], color=\"blue\")\n",
        "\n",
        "# dupliquer barplot, plot pourcentage cumulé\n",
        "ax2 = ax.twinx()\n",
        "ax2.plot('Pays', 'cumperc_mal', color=\"red\", marker=\"D\", ms=4, data= df_mal_sort[:30])\n",
        "ax2.yaxis.set_major_formatter(PercentFormatter())\n",
        "\n",
        "#changer couleurs axes\n",
        "ax.tick_params(axis='y', colors=\"blue\")\n",
        "ax2.tick_params(axis='y', colors=\"red\")\n",
        "\n",
        "# faire tourner labels\n",
        "ax.tick_params(labelrotation=90)\n"
      ]
    },
    {
      "cell_type": "markdown",
      "source": [
        "Densité"
      ],
      "metadata": {
        "id": "GE8Bn8qU_OJt"
      }
    },
    {
      "cell_type": "code",
      "source": [
        "# Inclusion de la surface dans le data frame\n",
        "area = pd.read_csv('FAOSTAT_area_add.csv')\n",
        "area = df_area[['Code zone (FAO)', 'Valeur']]\n",
        "area.head()"
      ],
      "metadata": {
        "id": "848po-KN_PBN"
      },
      "execution_count": null,
      "outputs": []
    },
    {
      "cell_type": "code",
      "source": [
        "# nouveau df avec surface, en se basant sur le code pays/ code zone\n",
        "df_area = pd.merge(df, area, how='inner', left_on='Code Pays', right_on='Code zone (FAO)')\n",
        "df_area.rename(columns = {'Valeur': 'Surface'}, inplace=True)\n",
        "del df_area[\"Code zone (FAO)\"]\n",
        "df_area.head()"
      ],
      "metadata": {
        "id": "S8ZKPdAKAJCZ"
      },
      "execution_count": null,
      "outputs": []
    }
  ],
  "metadata": {
    "colab": {
      "provenance": [],
      "include_colab_link": true
    },
    "kernelspec": {
      "display_name": "Python 3",
      "name": "python3"
    },
    "language_info": {
      "name": "python"
    }
  },
  "nbformat": 4,
  "nbformat_minor": 0
}